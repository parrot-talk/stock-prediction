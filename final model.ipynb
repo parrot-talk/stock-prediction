{
 "cells": [
  {
   "cell_type": "markdown",
   "id": "94c10718",
   "metadata": {},
   "source": [
    "# Model For Prediction"
   ]
  },
  {
   "cell_type": "markdown",
   "id": "7d181ef8",
   "metadata": {},
   "source": [
    "installing and importing yfinance and pandas to use those for our prediction and calculation"
   ]
  },
  {
   "cell_type": "code",
   "execution_count": 1,
   "id": "8ef098c4",
   "metadata": {},
   "outputs": [
    {
     "name": "stdout",
     "output_type": "stream",
     "text": [
      "Requirement already satisfied: yfinance in c:\\users\\crossy\\appdata\\local\\programs\\python\\python311\\lib\\site-packages (0.2.31)\n",
      "Requirement already satisfied: pandas>=1.3.0 in c:\\users\\crossy\\appdata\\local\\programs\\python\\python311\\lib\\site-packages (from yfinance) (1.5.3)\n",
      "Requirement already satisfied: numpy>=1.16.5 in c:\\users\\crossy\\appdata\\local\\programs\\python\\python311\\lib\\site-packages (from yfinance) (1.24.3)\n",
      "Requirement already satisfied: requests>=2.31 in c:\\users\\crossy\\appdata\\local\\programs\\python\\python311\\lib\\site-packages (from yfinance) (2.31.0)\n",
      "Requirement already satisfied: multitasking>=0.0.7 in c:\\users\\crossy\\appdata\\local\\programs\\python\\python311\\lib\\site-packages (from yfinance) (0.0.11)\n",
      "Requirement already satisfied: lxml>=4.9.1 in c:\\users\\crossy\\appdata\\local\\programs\\python\\python311\\lib\\site-packages (from yfinance) (4.9.3)\n",
      "Requirement already satisfied: appdirs>=1.4.4 in c:\\users\\crossy\\appdata\\local\\programs\\python\\python311\\lib\\site-packages (from yfinance) (1.4.4)\n",
      "Requirement already satisfied: pytz>=2022.5 in c:\\users\\crossy\\appdata\\local\\programs\\python\\python311\\lib\\site-packages (from yfinance) (2022.7.1)\n",
      "Requirement already satisfied: frozendict>=2.3.4 in c:\\users\\crossy\\appdata\\local\\programs\\python\\python311\\lib\\site-packages (from yfinance) (2.3.8)\n",
      "Requirement already satisfied: peewee>=3.16.2 in c:\\users\\crossy\\appdata\\local\\programs\\python\\python311\\lib\\site-packages (from yfinance) (3.16.3)\n",
      "Requirement already satisfied: beautifulsoup4>=4.11.1 in c:\\users\\crossy\\appdata\\local\\programs\\python\\python311\\lib\\site-packages (from yfinance) (4.12.2)\n",
      "Requirement already satisfied: html5lib>=1.1 in c:\\users\\crossy\\appdata\\local\\programs\\python\\python311\\lib\\site-packages (from yfinance) (1.1)\n",
      "Requirement already satisfied: soupsieve>1.2 in c:\\users\\crossy\\appdata\\local\\programs\\python\\python311\\lib\\site-packages (from beautifulsoup4>=4.11.1->yfinance) (2.4.1)\n",
      "Requirement already satisfied: six>=1.9 in c:\\users\\crossy\\appdata\\local\\programs\\python\\python311\\lib\\site-packages (from html5lib>=1.1->yfinance) (1.16.0)\n",
      "Requirement already satisfied: webencodings in c:\\users\\crossy\\appdata\\local\\programs\\python\\python311\\lib\\site-packages (from html5lib>=1.1->yfinance) (0.5.1)\n",
      "Requirement already satisfied: python-dateutil>=2.8.1 in c:\\users\\crossy\\appdata\\local\\programs\\python\\python311\\lib\\site-packages (from pandas>=1.3.0->yfinance) (2.8.1)\n",
      "Requirement already satisfied: charset-normalizer<4,>=2 in c:\\users\\crossy\\appdata\\local\\programs\\python\\python311\\lib\\site-packages (from requests>=2.31->yfinance) (3.1.0)\n",
      "Requirement already satisfied: idna<4,>=2.5 in c:\\users\\crossy\\appdata\\local\\programs\\python\\python311\\lib\\site-packages (from requests>=2.31->yfinance) (3.4)\n",
      "Requirement already satisfied: urllib3<3,>=1.21.1 in c:\\users\\crossy\\appdata\\local\\programs\\python\\python311\\lib\\site-packages (from requests>=2.31->yfinance) (1.26.16)\n",
      "Requirement already satisfied: certifi>=2017.4.17 in c:\\users\\crossy\\appdata\\local\\programs\\python\\python311\\lib\\site-packages (from requests>=2.31->yfinance) (2022.12.7)\n",
      "Note: you may need to restart the kernel to use updated packages.\n"
     ]
    }
   ],
   "source": [
    "pip install yfinance\n"
   ]
  },
  {
   "cell_type": "code",
   "execution_count": 2,
   "id": "dadf53da",
   "metadata": {},
   "outputs": [
    {
     "name": "stdout",
     "output_type": "stream",
     "text": [
      "Requirement already satisfied: pandas in c:\\users\\crossy\\appdata\\local\\programs\\python\\python311\\lib\\site-packages (1.5.3)\n",
      "Requirement already satisfied: python-dateutil>=2.8.1 in c:\\users\\crossy\\appdata\\local\\programs\\python\\python311\\lib\\site-packages (from pandas) (2.8.1)\n",
      "Requirement already satisfied: pytz>=2020.1 in c:\\users\\crossy\\appdata\\local\\programs\\python\\python311\\lib\\site-packages (from pandas) (2022.7.1)\n",
      "Requirement already satisfied: numpy>=1.21.0 in c:\\users\\crossy\\appdata\\local\\programs\\python\\python311\\lib\\site-packages (from pandas) (1.24.3)\n",
      "Requirement already satisfied: six>=1.5 in c:\\users\\crossy\\appdata\\local\\programs\\python\\python311\\lib\\site-packages (from python-dateutil>=2.8.1->pandas) (1.16.0)\n",
      "Note: you may need to restart the kernel to use updated packages.\n"
     ]
    }
   ],
   "source": [
    "pip install pandas"
   ]
  },
  {
   "cell_type": "code",
   "execution_count": 3,
   "id": "7bc2c96e",
   "metadata": {},
   "outputs": [],
   "source": [
    "import yfinance as yf"
   ]
  },
  {
   "cell_type": "code",
   "execution_count": 4,
   "id": "1dffac41",
   "metadata": {},
   "outputs": [],
   "source": [
    "import pandas as pd"
   ]
  },
  {
   "cell_type": "markdown",
   "id": "8d3bf0d4",
   "metadata": {},
   "source": [
    "Processing all the datas from history"
   ]
  },
  {
   "cell_type": "code",
   "execution_count": 5,
   "id": "cbaea997",
   "metadata": {},
   "outputs": [
    {
     "name": "stdout",
     "output_type": "stream",
     "text": [
      "[*********************100%%**********************]  1 of 1 completed\n",
      "[*********************100%%**********************]  1 of 1 completed\n",
      "[*********************100%%**********************]  1 of 1 completed\n"
     ]
    }
   ],
   "source": [
    "\n",
    "def processing_currencies(currenciestype):\n",
    "    df=yf.download(currenciestype)\n",
    "    \n",
    "    df.columns=['open','high','low','close','adj.close','volume']\n",
    "    \n",
    "    last_value = df['close'].iloc[-1]\n",
    "    last_value\n",
    "    df['close'] = df['open'].shift(-1)\n",
    "    \n",
    "    df.loc[df.index[-1], 'close'] = last_value\n",
    "    \n",
    "    del df['adj.close']\n",
    "    del df['volume']\n",
    "    \n",
    "    df=df.dropna()\n",
    "    \n",
    "    \n",
    "    return df\n",
    "\n",
    "\n",
    "\n",
    "df1=processing_currencies('EURUSD=X')\n",
    "df2=processing_currencies('GBPUSD=X')\n",
    "df3=processing_currencies('USAU')\n"
   ]
  },
  {
   "cell_type": "markdown",
   "id": "708a784b",
   "metadata": {},
   "source": [
    "Here optimizing time period so we cant get more accurate results and also experimenting with other variables to find the optimized solution\n"
   ]
  },
  {
   "cell_type": "code",
   "execution_count": 6,
   "id": "a5736071",
   "metadata": {},
   "outputs": [],
   "source": [
    "df3=df3.loc[\"2013-12-01\":].copy()\n",
    "\n",
    "df2=df2.loc[\"2000-12-01\":].copy()"
   ]
  },
  {
   "cell_type": "code",
   "execution_count": 7,
   "id": "1395a05e",
   "metadata": {},
   "outputs": [],
   "source": [
    "def add_columns(df):\n",
    "    df['pricefluctuation'] = df['high'] - df['low']\n",
    "    df['changes'] = df['close'] - df['open']\n",
    "    df['change%'] = (df['changes'] / df['open']) * 100\n",
    "    df['target'] = 0 \n",
    "    df.loc[df['change%'] > 0, 'target'] = 1\n",
    "    df.loc[df['change%'] < 0, 'target'] = 0\n",
    "    df['target'] = df['target'].shift(-1)\n",
    "    df.loc[df.index[-1], 'target'] = 0\n",
    "    df['target']=df['target'].astype(int)\n",
    "    return df\n",
    "\n",
    "df1=add_columns(df1)\n",
    "df2=add_columns(df2)\n",
    "df3=add_columns(df3)\n",
    " "
   ]
  },
  {
   "cell_type": "markdown",
   "id": "5abacd0d",
   "metadata": {},
   "source": [
    " Using Machine Learning with random forest classifier to make a predicting model"
   ]
  },
  {
   "cell_type": "code",
   "execution_count": 8,
   "id": "e519783d",
   "metadata": {},
   "outputs": [
    {
     "name": "stdout",
     "output_type": "stream",
     "text": [
      "Requirement already satisfied: sklearn in c:\\users\\crossy\\appdata\\local\\programs\\python\\python311\\lib\\site-packages (0.0.post10)\n",
      "Note: you may need to restart the kernel to use updated packages.\n"
     ]
    }
   ],
   "source": [
    "pip install sklearn"
   ]
  },
  {
   "cell_type": "code",
   "execution_count": 57,
   "id": "0271ab1b",
   "metadata": {},
   "outputs": [
    {
     "data": {
      "text/html": [
       "<div>\n",
       "<style scoped>\n",
       "    .dataframe tbody tr th:only-of-type {\n",
       "        vertical-align: middle;\n",
       "    }\n",
       "\n",
       "    .dataframe tbody tr th {\n",
       "        vertical-align: top;\n",
       "    }\n",
       "\n",
       "    .dataframe thead th {\n",
       "        text-align: right;\n",
       "    }\n",
       "</style>\n",
       "<table border=\"1\" class=\"dataframe\">\n",
       "  <thead>\n",
       "    <tr style=\"text-align: right;\">\n",
       "      <th></th>\n",
       "      <th>open</th>\n",
       "      <th>high</th>\n",
       "      <th>low</th>\n",
       "      <th>close</th>\n",
       "      <th>pricefluctuation</th>\n",
       "      <th>changes</th>\n",
       "      <th>change%</th>\n",
       "      <th>target</th>\n",
       "      <th>Close_Ratio_2</th>\n",
       "      <th>Trend_2</th>\n",
       "      <th>Close_Ratio_5</th>\n",
       "      <th>Trend_5</th>\n",
       "      <th>Close_Ratio_60</th>\n",
       "      <th>Trend_60</th>\n",
       "      <th>Close_Ratio_250</th>\n",
       "      <th>Trend_250</th>\n",
       "      <th>Close_Ratio_1000</th>\n",
       "      <th>Trend_1000</th>\n",
       "    </tr>\n",
       "    <tr>\n",
       "      <th>Date</th>\n",
       "      <th></th>\n",
       "      <th></th>\n",
       "      <th></th>\n",
       "      <th></th>\n",
       "      <th></th>\n",
       "      <th></th>\n",
       "      <th></th>\n",
       "      <th></th>\n",
       "      <th></th>\n",
       "      <th></th>\n",
       "      <th></th>\n",
       "      <th></th>\n",
       "      <th></th>\n",
       "      <th></th>\n",
       "      <th></th>\n",
       "      <th></th>\n",
       "      <th></th>\n",
       "      <th></th>\n",
       "    </tr>\n",
       "  </thead>\n",
       "  <tbody>\n",
       "    <tr>\n",
       "      <th>2007-10-04</th>\n",
       "      <td>2.032603</td>\n",
       "      <td>2.042400</td>\n",
       "      <td>2.028315</td>\n",
       "      <td>2.038487</td>\n",
       "      <td>0.014085</td>\n",
       "      <td>0.005884</td>\n",
       "      <td>0.289466</td>\n",
       "      <td>1</td>\n",
       "      <td>NaN</td>\n",
       "      <td>NaN</td>\n",
       "      <td>NaN</td>\n",
       "      <td>NaN</td>\n",
       "      <td>NaN</td>\n",
       "      <td>NaN</td>\n",
       "      <td>NaN</td>\n",
       "      <td>NaN</td>\n",
       "      <td>NaN</td>\n",
       "      <td>NaN</td>\n",
       "    </tr>\n",
       "    <tr>\n",
       "      <th>2007-10-05</th>\n",
       "      <td>2.038487</td>\n",
       "      <td>2.043820</td>\n",
       "      <td>2.031901</td>\n",
       "      <td>2.041900</td>\n",
       "      <td>0.011919</td>\n",
       "      <td>0.003413</td>\n",
       "      <td>0.167426</td>\n",
       "      <td>0</td>\n",
       "      <td>1.000836</td>\n",
       "      <td>NaN</td>\n",
       "      <td>NaN</td>\n",
       "      <td>NaN</td>\n",
       "      <td>NaN</td>\n",
       "      <td>NaN</td>\n",
       "      <td>NaN</td>\n",
       "      <td>NaN</td>\n",
       "      <td>NaN</td>\n",
       "      <td>NaN</td>\n",
       "    </tr>\n",
       "    <tr>\n",
       "      <th>2007-10-08</th>\n",
       "      <td>2.041900</td>\n",
       "      <td>2.042901</td>\n",
       "      <td>2.033595</td>\n",
       "      <td>2.035499</td>\n",
       "      <td>0.009306</td>\n",
       "      <td>-0.006401</td>\n",
       "      <td>-0.313462</td>\n",
       "      <td>1</td>\n",
       "      <td>0.998430</td>\n",
       "      <td>1.0</td>\n",
       "      <td>NaN</td>\n",
       "      <td>NaN</td>\n",
       "      <td>NaN</td>\n",
       "      <td>NaN</td>\n",
       "      <td>NaN</td>\n",
       "      <td>NaN</td>\n",
       "      <td>NaN</td>\n",
       "      <td>NaN</td>\n",
       "    </tr>\n",
       "    <tr>\n",
       "      <th>2007-10-09</th>\n",
       "      <td>2.035499</td>\n",
       "      <td>2.038985</td>\n",
       "      <td>2.026301</td>\n",
       "      <td>2.037697</td>\n",
       "      <td>0.012684</td>\n",
       "      <td>0.002198</td>\n",
       "      <td>0.107994</td>\n",
       "      <td>1</td>\n",
       "      <td>1.000540</td>\n",
       "      <td>1.0</td>\n",
       "      <td>NaN</td>\n",
       "      <td>NaN</td>\n",
       "      <td>NaN</td>\n",
       "      <td>NaN</td>\n",
       "      <td>NaN</td>\n",
       "      <td>NaN</td>\n",
       "      <td>NaN</td>\n",
       "      <td>NaN</td>\n",
       "    </tr>\n",
       "    <tr>\n",
       "      <th>2007-10-10</th>\n",
       "      <td>2.037697</td>\n",
       "      <td>2.047209</td>\n",
       "      <td>2.037697</td>\n",
       "      <td>2.041108</td>\n",
       "      <td>0.009511</td>\n",
       "      <td>0.003411</td>\n",
       "      <td>0.167374</td>\n",
       "      <td>0</td>\n",
       "      <td>1.000836</td>\n",
       "      <td>2.0</td>\n",
       "      <td>1.001064</td>\n",
       "      <td>NaN</td>\n",
       "      <td>NaN</td>\n",
       "      <td>NaN</td>\n",
       "      <td>NaN</td>\n",
       "      <td>NaN</td>\n",
       "      <td>NaN</td>\n",
       "      <td>NaN</td>\n",
       "    </tr>\n",
       "    <tr>\n",
       "      <th>...</th>\n",
       "      <td>...</td>\n",
       "      <td>...</td>\n",
       "      <td>...</td>\n",
       "      <td>...</td>\n",
       "      <td>...</td>\n",
       "      <td>...</td>\n",
       "      <td>...</td>\n",
       "      <td>...</td>\n",
       "      <td>...</td>\n",
       "      <td>...</td>\n",
       "      <td>...</td>\n",
       "      <td>...</td>\n",
       "      <td>...</td>\n",
       "      <td>...</td>\n",
       "      <td>...</td>\n",
       "      <td>...</td>\n",
       "      <td>...</td>\n",
       "      <td>...</td>\n",
       "    </tr>\n",
       "    <tr>\n",
       "      <th>2023-10-12</th>\n",
       "      <td>1.231694</td>\n",
       "      <td>1.233076</td>\n",
       "      <td>1.220718</td>\n",
       "      <td>1.218398</td>\n",
       "      <td>0.012358</td>\n",
       "      <td>-0.013296</td>\n",
       "      <td>-1.079499</td>\n",
       "      <td>0</td>\n",
       "      <td>0.994573</td>\n",
       "      <td>1.0</td>\n",
       "      <td>0.994329</td>\n",
       "      <td>4.0</td>\n",
       "      <td>0.972087</td>\n",
       "      <td>24.0</td>\n",
       "      <td>0.986882</td>\n",
       "      <td>129.0</td>\n",
       "      <td>0.946112</td>\n",
       "      <td>492.0</td>\n",
       "    </tr>\n",
       "    <tr>\n",
       "      <th>2023-10-13</th>\n",
       "      <td>1.218398</td>\n",
       "      <td>1.222345</td>\n",
       "      <td>1.213268</td>\n",
       "      <td>1.215480</td>\n",
       "      <td>0.009076</td>\n",
       "      <td>-0.002918</td>\n",
       "      <td>-0.239456</td>\n",
       "      <td>1</td>\n",
       "      <td>0.998801</td>\n",
       "      <td>0.0</td>\n",
       "      <td>0.993037</td>\n",
       "      <td>3.0</td>\n",
       "      <td>0.970659</td>\n",
       "      <td>24.0</td>\n",
       "      <td>0.984342</td>\n",
       "      <td>128.0</td>\n",
       "      <td>0.943934</td>\n",
       "      <td>492.0</td>\n",
       "    </tr>\n",
       "    <tr>\n",
       "      <th>2023-10-16</th>\n",
       "      <td>1.215480</td>\n",
       "      <td>1.219959</td>\n",
       "      <td>1.214432</td>\n",
       "      <td>1.221255</td>\n",
       "      <td>0.005526</td>\n",
       "      <td>0.005774</td>\n",
       "      <td>0.475070</td>\n",
       "      <td>0</td>\n",
       "      <td>1.002370</td>\n",
       "      <td>1.0</td>\n",
       "      <td>0.998406</td>\n",
       "      <td>3.0</td>\n",
       "      <td>0.976050</td>\n",
       "      <td>25.0</td>\n",
       "      <td>0.988781</td>\n",
       "      <td>129.0</td>\n",
       "      <td>0.948497</td>\n",
       "      <td>493.0</td>\n",
       "    </tr>\n",
       "    <tr>\n",
       "      <th>2023-10-17</th>\n",
       "      <td>1.221255</td>\n",
       "      <td>1.221687</td>\n",
       "      <td>1.213474</td>\n",
       "      <td>1.218428</td>\n",
       "      <td>0.008213</td>\n",
       "      <td>-0.002827</td>\n",
       "      <td>-0.231497</td>\n",
       "      <td>0</td>\n",
       "      <td>0.998841</td>\n",
       "      <td>1.0</td>\n",
       "      <td>0.997852</td>\n",
       "      <td>2.0</td>\n",
       "      <td>0.974711</td>\n",
       "      <td>24.0</td>\n",
       "      <td>0.986271</td>\n",
       "      <td>128.0</td>\n",
       "      <td>0.946370</td>\n",
       "      <td>493.0</td>\n",
       "    </tr>\n",
       "    <tr>\n",
       "      <th>2023-10-18</th>\n",
       "      <td>1.218428</td>\n",
       "      <td>1.218517</td>\n",
       "      <td>1.215953</td>\n",
       "      <td>1.217226</td>\n",
       "      <td>0.002563</td>\n",
       "      <td>-0.001201</td>\n",
       "      <td>-0.098602</td>\n",
       "      <td>0</td>\n",
       "      <td>0.999507</td>\n",
       "      <td>0.0</td>\n",
       "      <td>0.999236</td>\n",
       "      <td>1.0</td>\n",
       "      <td>0.974733</td>\n",
       "      <td>23.0</td>\n",
       "      <td>0.985047</td>\n",
       "      <td>128.0</td>\n",
       "      <td>0.945504</td>\n",
       "      <td>493.0</td>\n",
       "    </tr>\n",
       "  </tbody>\n",
       "</table>\n",
       "<p>4171 rows × 18 columns</p>\n",
       "</div>"
      ],
      "text/plain": [
       "                open      high       low     close  pricefluctuation  \\\n",
       "Date                                                                   \n",
       "2007-10-04  2.032603  2.042400  2.028315  2.038487          0.014085   \n",
       "2007-10-05  2.038487  2.043820  2.031901  2.041900          0.011919   \n",
       "2007-10-08  2.041900  2.042901  2.033595  2.035499          0.009306   \n",
       "2007-10-09  2.035499  2.038985  2.026301  2.037697          0.012684   \n",
       "2007-10-10  2.037697  2.047209  2.037697  2.041108          0.009511   \n",
       "...              ...       ...       ...       ...               ...   \n",
       "2023-10-12  1.231694  1.233076  1.220718  1.218398          0.012358   \n",
       "2023-10-13  1.218398  1.222345  1.213268  1.215480          0.009076   \n",
       "2023-10-16  1.215480  1.219959  1.214432  1.221255          0.005526   \n",
       "2023-10-17  1.221255  1.221687  1.213474  1.218428          0.008213   \n",
       "2023-10-18  1.218428  1.218517  1.215953  1.217226          0.002563   \n",
       "\n",
       "             changes   change%  target  Close_Ratio_2  Trend_2  Close_Ratio_5  \\\n",
       "Date                                                                            \n",
       "2007-10-04  0.005884  0.289466       1            NaN      NaN            NaN   \n",
       "2007-10-05  0.003413  0.167426       0       1.000836      NaN            NaN   \n",
       "2007-10-08 -0.006401 -0.313462       1       0.998430      1.0            NaN   \n",
       "2007-10-09  0.002198  0.107994       1       1.000540      1.0            NaN   \n",
       "2007-10-10  0.003411  0.167374       0       1.000836      2.0       1.001064   \n",
       "...              ...       ...     ...            ...      ...            ...   \n",
       "2023-10-12 -0.013296 -1.079499       0       0.994573      1.0       0.994329   \n",
       "2023-10-13 -0.002918 -0.239456       1       0.998801      0.0       0.993037   \n",
       "2023-10-16  0.005774  0.475070       0       1.002370      1.0       0.998406   \n",
       "2023-10-17 -0.002827 -0.231497       0       0.998841      1.0       0.997852   \n",
       "2023-10-18 -0.001201 -0.098602       0       0.999507      0.0       0.999236   \n",
       "\n",
       "            Trend_5  Close_Ratio_60  Trend_60  Close_Ratio_250  Trend_250  \\\n",
       "Date                                                                        \n",
       "2007-10-04      NaN             NaN       NaN              NaN        NaN   \n",
       "2007-10-05      NaN             NaN       NaN              NaN        NaN   \n",
       "2007-10-08      NaN             NaN       NaN              NaN        NaN   \n",
       "2007-10-09      NaN             NaN       NaN              NaN        NaN   \n",
       "2007-10-10      NaN             NaN       NaN              NaN        NaN   \n",
       "...             ...             ...       ...              ...        ...   \n",
       "2023-10-12      4.0        0.972087      24.0         0.986882      129.0   \n",
       "2023-10-13      3.0        0.970659      24.0         0.984342      128.0   \n",
       "2023-10-16      3.0        0.976050      25.0         0.988781      129.0   \n",
       "2023-10-17      2.0        0.974711      24.0         0.986271      128.0   \n",
       "2023-10-18      1.0        0.974733      23.0         0.985047      128.0   \n",
       "\n",
       "            Close_Ratio_1000  Trend_1000  \n",
       "Date                                      \n",
       "2007-10-04               NaN         NaN  \n",
       "2007-10-05               NaN         NaN  \n",
       "2007-10-08               NaN         NaN  \n",
       "2007-10-09               NaN         NaN  \n",
       "2007-10-10               NaN         NaN  \n",
       "...                      ...         ...  \n",
       "2023-10-12          0.946112       492.0  \n",
       "2023-10-13          0.943934       492.0  \n",
       "2023-10-16          0.948497       493.0  \n",
       "2023-10-17          0.946370       493.0  \n",
       "2023-10-18          0.945504       493.0  \n",
       "\n",
       "[4171 rows x 18 columns]"
      ]
     },
     "execution_count": 57,
     "metadata": {},
     "output_type": "execute_result"
    }
   ],
   "source": [
    "def process_data(df, horizons):\n",
    "    new_predictors = []\n",
    "\n",
    "    for horizon in horizons:\n",
    "        rolling_averages = df.rolling(horizon).mean()\n",
    "\n",
    "        ratio_column = f'Close_Ratio_{horizon}'\n",
    "        df[ratio_column] = df['close'] / rolling_averages['close']\n",
    "\n",
    "        trend_column = f'Trend_{horizon}'\n",
    "        df[trend_column] = df.shift(1).rolling(horizon).sum()['target']\n",
    "\n",
    "        new_predictors += [ratio_column, trend_column]\n",
    "\n",
    "    return df, new_predictors\n",
    " \n",
    "horizons = [2, 5, 60, 250, 1000]\n",
    "df1, new_predictors1 = process_data(df1, horizons)\n",
    "\n",
    "df2, new_predictors2 = process_data(df2, horizons)\n",
    " \n",
    "df3, new_predictors3 = process_data(df3, horizons)\n",
    "\n",
    "\n",
    "df2"
   ]
  },
  {
   "cell_type": "code",
   "execution_count": 10,
   "id": "06f7f0de",
   "metadata": {},
   "outputs": [],
   "source": [
    "df1=df1.dropna()\n",
    "df2=df2.dropna()\n",
    "df3=df3.dropna()\n",
    " "
   ]
  },
  {
   "cell_type": "code",
   "execution_count": null,
   "id": "85e8f8da",
   "metadata": {},
   "outputs": [],
   "source": [
    " "
   ]
  },
  {
   "cell_type": "code",
   "execution_count": 11,
   "id": "8248dc3e",
   "metadata": {},
   "outputs": [],
   "source": [
    "from sklearn.ensemble import RandomForestClassifier\n",
    "model = RandomForestClassifier(n_estimators=350, min_samples_split=200,random_state=1)"
   ]
  },
  {
   "cell_type": "code",
   "execution_count": 12,
   "id": "36bf1110",
   "metadata": {},
   "outputs": [],
   "source": [
    "def predict(train, test, predictors, model):\n",
    "    model.fit(train[predictors], train['target'])\n",
    "    preds=model.predict_proba(test[predictors])[:,1]\n",
    "    preds[preds>=.50]=1\n",
    "    preds[preds<.50]=0\n",
    "    preds=pd.Series(preds,index=test.index,name='Predictions')\n",
    "    combined=pd.concat([test['target'],preds],axis=1)\n",
    "    return combined"
   ]
  },
  {
   "cell_type": "code",
   "execution_count": 13,
   "id": "58d796df",
   "metadata": {},
   "outputs": [],
   "source": [
    "def backtest(data,model,predictors,start=2500,step=250):\n",
    "    all_predictions=[]\n",
    "    \n",
    "    \n",
    "    for i in range(start,data.shape[0],step):\n",
    "        train=data.iloc[0:i].copy()\n",
    "        test=data.iloc[i:(i+step)].copy()\n",
    "        predictions=predict(train,test,predictors,model)\n",
    "        all_predictions.append(predictions)\n",
    "    return pd.concat(all_predictions)\n",
    "\n",
    "\n",
    "def backtest1(data,model,predictors,start=250,step=25):\n",
    "    all_predictions=[]\n",
    "    \n",
    "    \n",
    "    for i in range(start,data.shape[0],step):\n",
    "        train=data.iloc[0:i].copy()\n",
    "        test=data.iloc[i:(i+step)].copy()\n",
    "        predictions=predict(train,test,predictors,model)\n",
    "        all_predictions.append(predictions)\n",
    "    return pd.concat(all_predictions)\n"
   ]
  },
  {
   "cell_type": "code",
   "execution_count": 14,
   "id": "289db3a2",
   "metadata": {},
   "outputs": [],
   "source": [
    "predictions1=backtest(df1,model,new_predictors1)\n",
    "predictions2=backtest1(df2,model,new_predictors2)\n",
    "predictions3=backtest1(df3,model,new_predictors3)\n"
   ]
  },
  {
   "cell_type": "code",
   "execution_count": 53,
   "id": "aeb02d74",
   "metadata": {
    "scrolled": true
   },
   "outputs": [
    {
     "data": {
      "text/plain": [
       "Date\n",
       "2023-10-18    0.0\n",
       "Name: Predictions, dtype: float64"
      ]
     },
     "execution_count": 53,
     "metadata": {},
     "output_type": "execute_result"
    }
   ],
   "source": [
    "predictions1.tail(1)['Predictions']\n"
   ]
  },
  {
   "cell_type": "markdown",
   "id": "d7170d6d",
   "metadata": {},
   "source": [
    "Here it gives prediction "
   ]
  },
  {
   "cell_type": "code",
   "execution_count": 15,
   "id": "d84f55dc",
   "metadata": {},
   "outputs": [
    {
     "data": {
      "text/plain": [
       "0.0    1098\n",
       "1.0     138\n",
       "Name: Predictions, dtype: int64"
      ]
     },
     "execution_count": 15,
     "metadata": {},
     "output_type": "execute_result"
    }
   ],
   "source": [
    "predictions1['Predictions'].value_counts()\n",
    "predictions2['Predictions'].value_counts()\n",
    "predictions3['Predictions'].value_counts()\n"
   ]
  },
  {
   "cell_type": "code",
   "execution_count": 41,
   "id": "13062f47",
   "metadata": {},
   "outputs": [
    {
     "name": "stdout",
     "output_type": "stream",
     "text": [
      "0.5183845690174804\n",
      "0.5047181841366998\n",
      "0.5477346278317152\n"
     ]
    }
   ],
   "source": [
    "from sklearn.metrics import precision_score\n",
    "print(precision_score(predictions1['target'],predictions1['Predictions'], average='micro'))\n",
    "print(precision_score(predictions2['target'],predictions2['Predictions'], average='micro'))\n",
    "print(precision_score(predictions3['target'],predictions3['Predictions'], average='micro')\n",
    ")"
   ]
  },
  {
   "cell_type": "code",
   "execution_count": 17,
   "id": "05e7cb31",
   "metadata": {},
   "outputs": [
    {
     "data": {
      "text/html": [
       "<div>\n",
       "<style scoped>\n",
       "    .dataframe tbody tr th:only-of-type {\n",
       "        vertical-align: middle;\n",
       "    }\n",
       "\n",
       "    .dataframe tbody tr th {\n",
       "        vertical-align: top;\n",
       "    }\n",
       "\n",
       "    .dataframe thead th {\n",
       "        text-align: right;\n",
       "    }\n",
       "</style>\n",
       "<table border=\"1\" class=\"dataframe\">\n",
       "  <thead>\n",
       "    <tr style=\"text-align: right;\">\n",
       "      <th></th>\n",
       "      <th>open</th>\n",
       "      <th>high</th>\n",
       "      <th>low</th>\n",
       "      <th>close</th>\n",
       "      <th>pricefluctuation</th>\n",
       "      <th>changes</th>\n",
       "      <th>change%</th>\n",
       "      <th>target</th>\n",
       "      <th>Close_Ratio_2</th>\n",
       "      <th>Trend_2</th>\n",
       "      <th>Close_Ratio_5</th>\n",
       "      <th>Trend_5</th>\n",
       "      <th>Close_Ratio_60</th>\n",
       "      <th>Trend_60</th>\n",
       "      <th>Close_Ratio_250</th>\n",
       "      <th>Trend_250</th>\n",
       "      <th>Close_Ratio_1000</th>\n",
       "      <th>Trend_1000</th>\n",
       "    </tr>\n",
       "    <tr>\n",
       "      <th>Date</th>\n",
       "      <th></th>\n",
       "      <th></th>\n",
       "      <th></th>\n",
       "      <th></th>\n",
       "      <th></th>\n",
       "      <th></th>\n",
       "      <th></th>\n",
       "      <th></th>\n",
       "      <th></th>\n",
       "      <th></th>\n",
       "      <th></th>\n",
       "      <th></th>\n",
       "      <th></th>\n",
       "      <th></th>\n",
       "      <th></th>\n",
       "      <th></th>\n",
       "      <th></th>\n",
       "      <th></th>\n",
       "    </tr>\n",
       "  </thead>\n",
       "  <tbody>\n",
       "    <tr>\n",
       "      <th>2023-10-17</th>\n",
       "      <td>3.59</td>\n",
       "      <td>3.77</td>\n",
       "      <td>3.44</td>\n",
       "      <td>3.48</td>\n",
       "      <td>0.33</td>\n",
       "      <td>-0.11</td>\n",
       "      <td>-3.064064</td>\n",
       "      <td>0</td>\n",
       "      <td>0.984441</td>\n",
       "      <td>1.0</td>\n",
       "      <td>1.039427</td>\n",
       "      <td>3.0</td>\n",
       "      <td>0.941346</td>\n",
       "      <td>23.0</td>\n",
       "      <td>0.823326</td>\n",
       "      <td>109.0</td>\n",
       "      <td>0.476898</td>\n",
       "      <td>443.0</td>\n",
       "    </tr>\n",
       "  </tbody>\n",
       "</table>\n",
       "</div>"
      ],
      "text/plain": [
       "            open  high   low  close  pricefluctuation  changes   change%  \\\n",
       "Date                                                                       \n",
       "2023-10-17  3.59  3.77  3.44   3.48              0.33    -0.11 -3.064064   \n",
       "\n",
       "            target  Close_Ratio_2  Trend_2  Close_Ratio_5  Trend_5  \\\n",
       "Date                                                                 \n",
       "2023-10-17       0       0.984441      1.0       1.039427      3.0   \n",
       "\n",
       "            Close_Ratio_60  Trend_60  Close_Ratio_250  Trend_250  \\\n",
       "Date                                                               \n",
       "2023-10-17        0.941346      23.0         0.823326      109.0   \n",
       "\n",
       "            Close_Ratio_1000  Trend_1000  \n",
       "Date                                      \n",
       "2023-10-17          0.476898       443.0  "
      ]
     },
     "execution_count": 17,
     "metadata": {},
     "output_type": "execute_result"
    }
   ],
   "source": [
    "df3.tail(1)"
   ]
  },
  {
   "cell_type": "markdown",
   "id": "dc56badc",
   "metadata": {},
   "source": [
    "Here predicted value is stored and based on this email is sent"
   ]
  },
  {
   "cell_type": "code",
   "execution_count": null,
   "id": "ab566bf2",
   "metadata": {},
   "outputs": [],
   "source": []
  },
  {
   "cell_type": "code",
   "execution_count": null,
   "id": "f4b2977b",
   "metadata": {},
   "outputs": [],
   "source": []
  },
  {
   "cell_type": "code",
   "execution_count": null,
   "id": "e961926a",
   "metadata": {},
   "outputs": [],
   "source": []
  },
  {
   "cell_type": "code",
   "execution_count": 29,
   "id": "5b3aa336",
   "metadata": {},
   "outputs": [
    {
     "name": "stdout",
     "output_type": "stream",
     "text": [
      "Date\n",
      "2023-10-12    0\n",
      "2023-10-13    1\n",
      "2023-10-16    1\n",
      "2023-10-17    0\n",
      "2023-10-18    0\n",
      "Name: target, dtype: int32\n",
      "Date\n",
      "2023-10-12    0\n",
      "2023-10-13    1\n",
      "2023-10-16    0\n",
      "2023-10-17    0\n",
      "2023-10-18    0\n",
      "Name: target, dtype: int32\n",
      "Date\n",
      "2023-10-11    0\n",
      "2023-10-12    1\n",
      "2023-10-13    1\n",
      "2023-10-16    0\n",
      "2023-10-17    0\n",
      "Name: target, dtype: int32\n"
     ]
    }
   ],
   "source": [
    "print(df1.tail()['target'])\n",
    "print(df2.tail()['target'])\n",
    "print(df3.tail()['target'])"
   ]
  },
  {
   "cell_type": "markdown",
   "id": "ea52cc43",
   "metadata": {},
   "source": [
    "## Setting up email\n"
   ]
  },
  {
   "cell_type": "markdown",
   "id": "91c31875",
   "metadata": {},
   "source": [
    "All the process of sending email is done here"
   ]
  },
  {
   "cell_type": "code",
   "execution_count": 19,
   "id": "049e77d0",
   "metadata": {},
   "outputs": [
    {
     "name": "stdout",
     "output_type": "stream",
     "text": [
      "Collecting email\n",
      "  Using cached email-4.0.2.tar.gz (1.2 MB)\n",
      "  Preparing metadata (setup.py): started\n",
      "  Preparing metadata (setup.py): finished with status 'error'\n",
      "Note: you may need to restart the kernel to use updated packages.\n"
     ]
    },
    {
     "name": "stderr",
     "output_type": "stream",
     "text": [
      "  error: subprocess-exited-with-error\n",
      "  \n",
      "  python setup.py egg_info did not run successfully.\n",
      "  exit code: 1\n",
      "  \n",
      "  [1 lines of output]\n",
      "  ERROR: Can not execute `setup.py` since setuptools is not available in the build environment.\n",
      "  [end of output]\n",
      "  \n",
      "  note: This error originates from a subprocess, and is likely not a problem with pip.\n",
      "error: metadata-generation-failed\n",
      "\n",
      "Encountered error while generating package metadata.\n",
      "\n",
      "See above for output.\n",
      "\n",
      "note: This is an issue with the package mentioned above, not pip.\n",
      "hint: See above for details.\n"
     ]
    }
   ],
   "source": [
    "pip install email"
   ]
  },
  {
   "cell_type": "code",
   "execution_count": 20,
   "id": "18b92bc5",
   "metadata": {},
   "outputs": [
    {
     "name": "stdout",
     "output_type": "stream",
     "text": [
      "Collecting ssl\n",
      "  Using cached ssl-1.16.tar.gz (33 kB)\n",
      "  Preparing metadata (setup.py): started\n",
      "  Preparing metadata (setup.py): finished with status 'error'\n",
      "Note: you may need to restart the kernel to use updated packages.\n"
     ]
    },
    {
     "name": "stderr",
     "output_type": "stream",
     "text": [
      "  error: subprocess-exited-with-error\n",
      "  \n",
      "  python setup.py egg_info did not run successfully.\n",
      "  exit code: 1\n",
      "  \n",
      "  [28 lines of output]\n",
      "  Traceback (most recent call last):\n",
      "    File \"<string>\", line 2, in <module>\n",
      "    File \"<pip-setuptools-caller>\", line 14, in <module>\n",
      "    File \"C:\\Users\\Crossy\\AppData\\Local\\Programs\\Python\\Python311\\Lib\\site-packages\\setuptools\\__init__.py\", line 247, in <module>\n",
      "      monkey.patch_all()\n",
      "    File \"C:\\Users\\Crossy\\AppData\\Local\\Programs\\Python\\Python311\\Lib\\site-packages\\setuptools\\monkey.py\", line 97, in patch_all\n",
      "      patch_for_msvc_specialized_compiler()\n",
      "    File \"C:\\Users\\Crossy\\AppData\\Local\\Programs\\Python\\Python311\\Lib\\site-packages\\setuptools\\monkey.py\", line 157, in patch_for_msvc_specialized_compiler\n",
      "      patch_func(*msvc14('_get_vc_env'))\n",
      "                  ^^^^^^^^^^^^^^^^^^^^^\n",
      "    File \"C:\\Users\\Crossy\\AppData\\Local\\Programs\\Python\\Python311\\Lib\\site-packages\\setuptools\\monkey.py\", line 147, in patch_params\n",
      "      mod = import_module(mod_name)\n",
      "            ^^^^^^^^^^^^^^^^^^^^^^^\n",
      "    File \"C:\\Users\\Crossy\\AppData\\Local\\Programs\\Python\\Python311\\Lib\\importlib\\__init__.py\", line 126, in import_module\n",
      "      return _bootstrap._gcd_import(name[level:], package, level)\n",
      "             ^^^^^^^^^^^^^^^^^^^^^^^^^^^^^^^^^^^^^^^^^^^^^^^^^^^^\n",
      "    File \"C:\\Users\\Crossy\\AppData\\Local\\Programs\\Python\\Python311\\Lib\\site-packages\\setuptools\\_distutils\\_msvccompiler.py\", line 20, in <module>\n",
      "      import unittest.mock as mock\n",
      "    File \"C:\\Users\\Crossy\\AppData\\Local\\Programs\\Python\\Python311\\Lib\\unittest\\mock.py\", line 26, in <module>\n",
      "      import asyncio\n",
      "    File \"C:\\Users\\Crossy\\AppData\\Local\\Programs\\Python\\Python311\\Lib\\asyncio\\__init__.py\", line 8, in <module>\n",
      "      from .base_events import *\n",
      "    File \"C:\\Users\\Crossy\\AppData\\Local\\Programs\\Python\\Python311\\Lib\\asyncio\\base_events.py\", line 34, in <module>\n",
      "      import ssl\n",
      "    File \"C:\\Users\\Crossy\\AppData\\Local\\Temp\\pip-install-f766ku1j\\ssl_60368929b878403c8986f46ebcebb68b\\ssl\\__init__.py\", line 140\n",
      "      except SSLError, x:\n",
      "             ^^^^^^^^^^^\n",
      "  SyntaxError: multiple exception types must be parenthesized\n",
      "  [end of output]\n",
      "  \n",
      "  note: This error originates from a subprocess, and is likely not a problem with pip.\n",
      "error: metadata-generation-failed\n",
      "\n",
      "Encountered error while generating package metadata.\n",
      "\n",
      "See above for output.\n",
      "\n",
      "note: This is an issue with the package mentioned above, not pip.\n",
      "hint: See above for details.\n"
     ]
    }
   ],
   "source": [
    "pip install ssl"
   ]
  },
  {
   "cell_type": "code",
   "execution_count": 21,
   "id": "106dba86",
   "metadata": {},
   "outputs": [],
   "source": [
    "#pip install smtplib"
   ]
  },
  {
   "cell_type": "code",
   "execution_count": 22,
   "id": "aeadfe71",
   "metadata": {},
   "outputs": [],
   "source": [
    "import ssl"
   ]
  },
  {
   "cell_type": "code",
   "execution_count": 23,
   "id": "bba1cdba",
   "metadata": {},
   "outputs": [],
   "source": [
    "import smtplib"
   ]
  },
  {
   "cell_type": "code",
   "execution_count": 24,
   "id": "1fafd645",
   "metadata": {},
   "outputs": [],
   "source": [
    "from email.message import EmailMessage"
   ]
  },
  {
   "cell_type": "code",
   "execution_count": 25,
   "id": "ac46b928",
   "metadata": {},
   "outputs": [],
   "source": [
    "email_sender=' '\n",
    "email_password=' '\n",
    "email_receiver=' '"
   ]
  },
  {
   "cell_type": "markdown",
   "id": "1bd5e76f",
   "metadata": {},
   "source": [
    "Here the sender email, their password, and also reciever email is entered.\n",
    "For privacy purpose I have removed mine, but it works"
   ]
  },
  {
   "cell_type": "code",
   "execution_count": 30,
   "id": "22d15f0d",
   "metadata": {},
   "outputs": [],
   "source": [
    "subject = 'Trade Alert'"
   ]
  },
  {
   "cell_type": "code",
   "execution_count": null,
   "id": "6ce9bd43",
   "metadata": {},
   "outputs": [],
   "source": []
  },
  {
   "cell_type": "code",
   "execution_count": null,
   "id": "b67b454a",
   "metadata": {},
   "outputs": [],
   "source": []
  },
  {
   "cell_type": "markdown",
   "id": "b76b73ac",
   "metadata": {},
   "source": [
    "It sends email"
   ]
  },
  {
   "cell_type": "code",
   "execution_count": 42,
   "id": "eda01018",
   "metadata": {},
   "outputs": [],
   "source": [
    "def send_mail(body):\n",
    "    em=EmailMessage()\n",
    "    em['From']=email_sender\n",
    "    em['To']=email_receiver\n",
    "    em['Subject']=subject\n",
    "    em.set_content(body)\n",
    "    context=ssl.create_default_context()\n",
    "    with smtplib.SMTP_SSL('smtp.gmail.com',465,context=context) as smtp:\n",
    "        smtp.login(email_sender,email_password)\n",
    "        smtp.sendmail(email_sender,email_receiver,em.as_string())"
   ]
  },
  {
   "cell_type": "code",
   "execution_count": null,
   "id": "5c993f76",
   "metadata": {},
   "outputs": [],
   "source": []
  },
  {
   "cell_type": "code",
   "execution_count": null,
   "id": "f23d7822",
   "metadata": {},
   "outputs": [],
   "source": []
  },
  {
   "cell_type": "markdown",
   "id": "e3ab179a",
   "metadata": {},
   "source": [
    "# USING CSV FILE FOR READ,WRITE, APPEND AND DELETE OF STOCK INFORMATION"
   ]
  },
  {
   "cell_type": "code",
   "execution_count": 32,
   "id": "1d7370b2",
   "metadata": {},
   "outputs": [],
   "source": [
    "import csv"
   ]
  },
  {
   "cell_type": "markdown",
   "id": "ab793264",
   "metadata": {},
   "source": [
    "Now here CSV file is used to store all the trades, which helps us for stop-loss/cut-profit strategis"
   ]
  },
  {
   "cell_type": "code",
   "execution_count": 33,
   "id": "18fcb7f5",
   "metadata": {
    "scrolled": true
   },
   "outputs": [
    {
     "name": "stdout",
     "output_type": "stream",
     "text": [
      "Empty DataFrame\n",
      "Columns: [Date, Name, Price, Quantity, ID]\n",
      "Index: []\n"
     ]
    }
   ],
   "source": [
    "csv_file_path='stock_details.csv'\n",
    "\n",
    "existing_data = pd.read_csv(csv_file_path)\n",
    "\n",
    "print(existing_data)"
   ]
  },
  {
   "cell_type": "code",
   "execution_count": 34,
   "id": "164ab83a",
   "metadata": {
    "scrolled": true
   },
   "outputs": [
    {
     "name": "stdout",
     "output_type": "stream",
     "text": [
      "Date3: 2023-10-17\n",
      "Date2: 2023-10-18\n",
      "Date1: 2023-10-18\n"
     ]
    }
   ],
   "source": [
    "last_date3 = df3.tail(1).index[0].date()\n",
    "print(\"Date3:\", last_date3)\n",
    "\n",
    "last_date2 = df2.tail(1).index[0].date()\n",
    "print(\"Date2:\", last_date2)\n",
    "\n",
    "last_date1 = df1.tail(1).index[0].date()\n",
    "print(\"Date1:\", last_date1)\n"
   ]
  },
  {
   "cell_type": "code",
   "execution_count": 60,
   "id": "52ca5d5f",
   "metadata": {},
   "outputs": [
    {
     "name": "stdout",
     "output_type": "stream",
     "text": [
      "Target Value3: 0\n",
      "Target Value2: 0\n",
      "Target Value1: 0\n",
      "Open Price3: 3.5899999141693115\n",
      "Open Price2: 1.2184275388717651\n",
      "Open Price1: 1.0578652620315552\n"
     ]
    }
   ],
   "source": [
    "target_value3 = predictions3.tail(1)['Predictions'][0].astype(int)\n",
    "print(\"Target Value3:\", target_value3)\n",
    "      \n",
    "\n",
    "target_value2 = predictions2.tail(1)['Predictions'][0].astype(int)\n",
    "print(\"Target Value2:\", target_value2)\n",
    "      \n",
    "target_value1 = predictions1.tail(1)['Predictions'][0].astype(int)\n",
    "print(\"Target Value1:\", target_value1)\n",
    "\n",
    "open_price3 = df3.tail(1)[\"open\"].values[0]\n",
    "print(\"Open Price3:\", open_price3)\n",
    "\n",
    "open_price2 = df2.tail(1)[\"open\"].values[0]\n",
    "print(\"Open Price2:\", open_price2)\n",
    "\n",
    "open_price1 = df1.tail(1)[\"open\"].values[0]\n",
    "print(\"Open Price1:\", open_price1)"
   ]
  },
  {
   "cell_type": "code",
   "execution_count": 36,
   "id": "9ff5ff24",
   "metadata": {},
   "outputs": [],
   "source": [
    "x1=0\n",
    "x2=0\n",
    "x3=0\n",
    "y1=0\n",
    "y2=0\n",
    "y3=0\n",
    "z1=0\n",
    "z2=0\n",
    "z3=0"
   ]
  },
  {
   "cell_type": "markdown",
   "id": "9fdfeb26",
   "metadata": {},
   "source": [
    "here it checks for the prediction and based on it, it sends email to buy that currencies\n",
    "\n",
    "1 denotes buying!"
   ]
  },
  {
   "cell_type": "code",
   "execution_count": 52,
   "id": "faeec68b",
   "metadata": {},
   "outputs": [],
   "source": [
    "existing_data = pd.read_csv(csv_file_path)    \n",
    "\n",
    "if target_value1==1:\n",
    "    new_id = len(existing_data) + 1\n",
    "    duplicate_condition = (\n",
    "        (existing_data[\"Date\"] == last_date1) &\n",
    "        (existing_data[\"Name\"] == \"EURUSD\")\n",
    "    )\n",
    "\n",
    "    if not duplicate_condition.any():\n",
    "        data_to_add = pd.DataFrame({\n",
    "            'ID': [new_id],\n",
    "            'Date': [last_date1],\n",
    "            'Name': ['EURUSD'],\n",
    "            'Price': [open_price1],\n",
    "            'Quantity': [1]\n",
    "        })\n",
    "  \n",
    "        combined_data = pd.concat([existing_data, data_to_add], ignore_index=True)\n",
    "\n",
    "        combined_data.to_csv(csv_file_path, index=False)\n",
    "        \n",
    "        body = f'''Buy Alert, According to the model you should by EURUSD!'''\n",
    "        send_mail(body)  \n",
    "        x1=3\n",
    "\n",
    "    existing_data = pd.read_csv(csv_file_path)    \n",
    "if target_value2==1:\n",
    "    new_id = len(existing_data) + 1\n",
    "    duplicate_condition = (\n",
    "        (existing_data[\"Date\"] == last_date2) &\n",
    "        (existing_data[\"Name\"] == \"GBPUSD\")\n",
    "    )\n",
    "\n",
    "    if not duplicate_condition.any():\n",
    "    \n",
    "        data_to_add = pd.DataFrame({\n",
    "            'ID': [new_id],\n",
    "            'Date': last_date2,\n",
    "            'Name': 'GBPUSD',\n",
    "            'Price': open_price2,\n",
    "            'Quantity': 1\n",
    "        })\n",
    "        combined_data = pd.concat([existing_data, data_to_add], ignore_index=True)\n",
    "\n",
    "        combined_data.to_csv(csv_file_path, index=False)\n",
    "        body = f'''Buy Alert, According to the model you should by GBPUSD!'''\n",
    "        send_mail(body)\n",
    "        x2=3\n",
    "   \n",
    "\n",
    "\n",
    "\n",
    "     \n",
    "    existing_data = pd.read_csv(csv_file_path)    \n",
    "\n",
    "if target_value3==1:\n",
    "    new_id = len(existing_data) + 1\n",
    "    duplicate_condition = (\n",
    "        (existing_data[\"Date\"] == last_date3) &\n",
    "        (existing_data[\"Name\"] == \"USAU\")\n",
    "    )\n",
    "\n",
    "    if not duplicate_condition.any():\n",
    "    \n",
    "        data_to_add = pd.DataFrame({\n",
    "            'ID': [new_id],\n",
    "            'Date': last_date3,\n",
    "            'Name': 'USAU',\n",
    "            'Price': open_price3,\n",
    "            'Quantity': 1\n",
    "        })\n",
    "        combined_data = pd.concat([existing_data, data_to_add], ignore_index=True)\n",
    "\n",
    "        combined_data.to_csv(csv_file_path, index=False)\n",
    "        body = f'''Buy Alert, According to the model you should by USAU!'''\n",
    "        send_mail(body)\n",
    "        x3=3\n",
    "\n",
    "\n",
    "     \n",
    "    existing_data = pd.read_csv(csv_file_path)    \n",
    "\n",
    "else:\n",
    "    existing_data = pd.read_csv(csv_file_path)    \n",
    "    "
   ]
  },
  {
   "cell_type": "code",
   "execution_count": 38,
   "id": "ae3abdac",
   "metadata": {},
   "outputs": [
    {
     "data": {
      "text/plain": [
       "{'EURUSD': 1.057753324508667,\n",
       " 'GBPUSD': 1.2172261476516724,\n",
       " 'USAU': 3.4800000190734863}"
      ]
     },
     "execution_count": 38,
     "metadata": {},
     "output_type": "execute_result"
    }
   ],
   "source": [
    "todayprice1=df1.tail(1)[\"close\"].values[0]\n",
    "todayprice2=df2.tail(1)[\"close\"].values[0]\n",
    "todayprice3=df3.tail(1)[\"close\"].values[0]\n",
    "today_value={\n",
    "    \"EURUSD\": todayprice1,\n",
    "    \"GBPUSD\": todayprice2,\n",
    "    \"USAU\": todayprice3,\n",
    "}\n",
    "today_value"
   ]
  },
  {
   "cell_type": "code",
   "execution_count": null,
   "id": "4ecc960a",
   "metadata": {},
   "outputs": [],
   "source": []
  },
  {
   "cell_type": "code",
   "execution_count": null,
   "id": "e3901308",
   "metadata": {
    "scrolled": true
   },
   "outputs": [],
   "source": []
  },
  {
   "cell_type": "markdown",
   "id": "d8bcc524",
   "metadata": {},
   "source": [
    "Here it does the process of deleting item from the csv filke once that currencies is completely sold!"
   ]
  },
  {
   "cell_type": "code",
   "execution_count": 39,
   "id": "d4207023",
   "metadata": {},
   "outputs": [],
   "source": [
    "def delete_rows(passed_date, name):\n",
    "    df=existing_data\n",
    "    df = df[~((df['Date'] == passed_date) & (df['Name'] == name))]\n",
    "\n",
    "    df = df.reset_index(drop=True)\n",
    "    \n",
    "    df['ID'] = range(1, len(df) + 1)\n",
    "    return df"
   ]
  },
  {
   "cell_type": "code",
   "execution_count": 40,
   "id": "26d8466d",
   "metadata": {},
   "outputs": [],
   "source": [
    "import pandas as pd\n",
    "\n",
    "\n",
    "existing_data = pd.read_csv(csv_file_path)\n",
    "\n",
    "for index, row in existing_data.iterrows():\n",
    "    name = row['Name']\n",
    "    p = row[\"Price\"]\n",
    "\n",
    "    if name == 'EURUSD':\n",
    "        change_percentage = ((p - todayprice1) / todayprice1) * 100\n",
    "\n",
    "    elif name == 'GBPUSD':\n",
    "        change_percentage = ((p - todayprice2) / todayprice2) * 100\n",
    "\n",
    "    elif name == 'USAU':\n",
    "        change_percentage = ((p - todayprice3) / todayprice3) * 100\n",
    "\n",
    "    z = 0\n",
    "    if change_percentage >= 10:\n",
    "        body = f'''Congrats, You have made more than 10% profit on {name}!\n",
    "        Sell this stock! of date: {row[\"Date\"]}'''\n",
    "        existing_data = delete_rows(row[\"Date\"], row[\"Date\"])\n",
    "        existing_data.to_csv(csv_file_path, index=False) \n",
    "    elif change_percentage >= 5:\n",
    "        body = f'''Congrats, You have made more than 5% profit on {name}!\n",
    "        Sell this stock, but only half! of date: {row[\"Name\"]}'''\n",
    "    elif change_percentage <= -5:\n",
    "        body = f'''Sorry, You have experienced more than 5% loss on {name}!\n",
    "        Sell this stock! of date: {row[\"Date\"]}'''\n",
    "        existing_data = delete_rows(row[\"Date\"], row[\"Name\"])\n",
    "        existing_data.to_csv(csv_file_path, index=False) \n",
    "    \n",
    "    elif change_percentage <= -2.5:\n",
    "        body = f'''Sorry, You have experienced more than 2.5% loss on {name}!\n",
    "        Sell this stock, but only half! of date: {row[\"Date\"]}'''\n",
    "    else:\n",
    "        z = 1\n",
    "        print(f\"{name}: No significant change on {row['Name']}\")\n",
    "\n",
    "    if z == 0:\n",
    "        send_mail(body)  \n",
    "\n",
    "\n"
   ]
  },
  {
   "cell_type": "markdown",
   "id": "bf5073a7",
   "metadata": {},
   "source": [
    "OUTPUT:\n",
    "\n",
    "\n",
    "EURUSD: No significant change on EURUSD\n",
    "GBPUSD: No significant change on GBPUSD\n",
    "EURUSD: No significant change on EURUSD\n",
    "GBPUSD: No significant change on GBPUSD\n",
    "EURUSD: No significant change on EURUSD\n",
    "GBPUSD: No significant change on GBPUSD\n",
    "\n",
    "EMAIL:\n",
    "to me\n",
    "\n",
    "Sorry, You have experienced more than 5% loss on USAU!\n",
    "        Sell this stock! of date: 2023-10-13\n",
    "\n",
    "It was sent 3 time too.\n",
    " \n"
   ]
  },
  {
   "attachments": {},
   "cell_type": "markdown",
   "id": "60a5ae16",
   "metadata": {},
   "source": []
  },
  {
   "cell_type": "code",
   "execution_count": null,
   "id": "8cab1613",
   "metadata": {},
   "outputs": [],
   "source": []
  },
  {
   "cell_type": "markdown",
   "id": "491fe5be",
   "metadata": {},
   "source": [
    "If you need help with activating you email, please say so!\n"
   ]
  },
  {
   "cell_type": "code",
   "execution_count": null,
   "id": "1e1cd465",
   "metadata": {},
   "outputs": [],
   "source": []
  },
  {
   "cell_type": "code",
   "execution_count": null,
   "id": "2f712ef6",
   "metadata": {},
   "outputs": [],
   "source": []
  },
  {
   "cell_type": "code",
   "execution_count": null,
   "id": "4ff83f28",
   "metadata": {},
   "outputs": [],
   "source": []
  },
  {
   "cell_type": "code",
   "execution_count": null,
   "id": "3a0c7760",
   "metadata": {},
   "outputs": [],
   "source": []
  },
  {
   "cell_type": "code",
   "execution_count": null,
   "id": "d6fcfe85",
   "metadata": {},
   "outputs": [],
   "source": []
  },
  {
   "cell_type": "code",
   "execution_count": null,
   "id": "0fb8764e",
   "metadata": {},
   "outputs": [],
   "source": []
  },
  {
   "cell_type": "code",
   "execution_count": null,
   "id": "dbe852e0",
   "metadata": {},
   "outputs": [],
   "source": []
  },
  {
   "cell_type": "code",
   "execution_count": null,
   "id": "8c41aa34",
   "metadata": {},
   "outputs": [],
   "source": []
  },
  {
   "cell_type": "code",
   "execution_count": null,
   "id": "4d3d3de7",
   "metadata": {},
   "outputs": [],
   "source": []
  },
  {
   "cell_type": "code",
   "execution_count": null,
   "id": "5cea4d4b",
   "metadata": {},
   "outputs": [],
   "source": []
  },
  {
   "cell_type": "code",
   "execution_count": null,
   "id": "c38b8d38",
   "metadata": {},
   "outputs": [],
   "source": []
  },
  {
   "cell_type": "code",
   "execution_count": null,
   "id": "efec2ecd",
   "metadata": {},
   "outputs": [],
   "source": []
  },
  {
   "cell_type": "code",
   "execution_count": null,
   "id": "15e7bc78",
   "metadata": {},
   "outputs": [],
   "source": []
  },
  {
   "cell_type": "code",
   "execution_count": null,
   "id": "54ff1bed",
   "metadata": {},
   "outputs": [],
   "source": []
  },
  {
   "cell_type": "code",
   "execution_count": null,
   "id": "c686fe16",
   "metadata": {},
   "outputs": [],
   "source": []
  }
 ],
 "metadata": {
  "kernelspec": {
   "display_name": "Python 3 (ipykernel)",
   "language": "python",
   "name": "python3"
  },
  "language_info": {
   "codemirror_mode": {
    "name": "ipython",
    "version": 3
   },
   "file_extension": ".py",
   "mimetype": "text/x-python",
   "name": "python",
   "nbconvert_exporter": "python",
   "pygments_lexer": "ipython3",
   "version": "3.11.0"
  }
 },
 "nbformat": 4,
 "nbformat_minor": 5
}
